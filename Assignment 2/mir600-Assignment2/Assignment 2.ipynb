{
 "cells": [
  {
   "cell_type": "code",
   "execution_count": 1,
   "metadata": {},
   "outputs": [],
   "source": [
    "import numpy as np\n",
    "\n",
    "import matplotlib.pyplot as plt\n",
    "%matplotlib inline"
   ]
  },
  {
   "cell_type": "markdown",
   "metadata": {},
   "source": [
    "# Question A"
   ]
  },
  {
   "cell_type": "code",
   "execution_count": 2,
   "metadata": {},
   "outputs": [
    {
     "data": {
      "text/plain": [
       "0.14609754173593129"
      ]
     },
     "execution_count": 2,
     "metadata": {},
     "output_type": "execute_result"
    }
   ],
   "source": [
    "sum_ = 0\n",
    "for i in range(1, 91):\n",
    "    prod = 1\n",
    "    for j in range(0, i):\n",
    "        prod = prod * (0.9 - (0.01*j))\n",
    "    sum_ += prod\n",
    "    \n",
    "1 / (1 + sum_)"
   ]
  },
  {
   "cell_type": "markdown",
   "metadata": {},
   "source": [
    "# Question B"
   ]
  },
  {
   "cell_type": "code",
   "execution_count": 3,
   "metadata": {},
   "outputs": [
    {
     "data": {
      "text/plain": [
       "array([-0.05121949, -0.09810903, -0.14114383, -0.1807372 , -0.2172497 ,\n",
       "       -0.25099676, -0.28225512, -0.31126827, -0.33825099, -0.36339325,\n",
       "       -0.38686349, -0.40881143, -0.42937048, -0.44865976, -0.46678593,\n",
       "       -0.48384463, -0.49992185, -0.51509506, -0.52943416, -0.5430024 ,\n",
       "       -0.55585706, -0.56805015, -0.57962896, -0.59063657, -0.60111229,\n",
       "       -0.61109205, -0.62060874, -0.6296925 , -0.63837104, -0.64666981,\n",
       "       -0.65461225, -0.66221999, -0.66951298, -0.67650969, -0.6832272 ,\n",
       "       -0.68968134, -0.69588683, -0.7018573 , -0.70760546, -0.71314314,\n",
       "       -0.71848136, -0.72363041, -0.72859991, -0.73339883, -0.73803559,\n",
       "       -0.74251806, -0.74685364, -0.75104926, -0.75511144, -0.7590463 ,\n",
       "       -0.7628596 , -0.76655677, -0.77014293, -0.77362291, -0.77700125,\n",
       "       -0.78028226, -0.78347001, -0.78656835, -0.78958092, -0.79251117,\n",
       "       -0.79536237, -0.79813762, -0.80083988, -0.80347193, -0.80603644,\n",
       "       -0.80853593, -0.81097281, -0.81334937, -0.81566779, -0.81793014,\n",
       "       -0.82013841, -0.82229449, -0.82440018, -0.82645721, -0.82846723,\n",
       "       -0.8304318 , -0.83235243, -0.83423057, -0.83606759, -0.83786481,\n",
       "       -0.8396235 , -0.84134486, -0.84303008, -0.84468024, -0.84629644,\n",
       "       -0.8478797 , -0.849431  , -0.85095129, -0.85244148, -0.85390246,\n",
       "       -0.14609754])"
      ]
     },
     "execution_count": 3,
     "metadata": {},
     "output_type": "execute_result"
    }
   ],
   "source": [
    "states = np.arange(0, 91)\n",
    "b = -(0.1 + 0.01*states)\n",
    "\n",
    "probs = -(0.9 - 0.01*states)\n",
    "a = np.zeros((91, 91))\n",
    "\n",
    "for i in range(a.shape[0]):\n",
    "    a[i, i] = 1\n",
    "    if i != 90:\n",
    "        a[i, i+1] = probs[i]\n",
    "\n",
    "a = np.c_[a[:, 1:], np.ones(a.shape[1])]\n",
    "\n",
    "\n",
    "np.linalg.solve(a, b)"
   ]
  },
  {
   "cell_type": "markdown",
   "metadata": {},
   "source": [
    "# Question C"
   ]
  },
  {
   "cell_type": "code",
   "execution_count": 4,
   "metadata": {},
   "outputs": [],
   "source": [
    "import copy\n",
    "\n",
    "def get_equations():\n",
    "    states = np.arange(0, 91)\n",
    "    b = -(0.1+states*0.01)\n",
    "    \n",
    "    probs = -(0.9 - states*0.01)\n",
    "    a = np.zeros((91, 91))\n",
    "    \n",
    "    for i in range(a.shape[0]):\n",
    "        a[i, i] = 1\n",
    "        if i != 90:\n",
    "            a[i, i+1] = probs[i]\n",
    "            \n",
    "    return a, b\n",
    "\n",
    "def find_solution(policy):\n",
    "    a, b = get_equations()\n",
    "    \n",
    "    for i, action in enumerate(policy):\n",
    "        if action == 1:\n",
    "            if i != 90:\n",
    "                a[i, i+1] = 0\n",
    "            b[i]= -0.5\n",
    "            \n",
    "    a = np.c_[a[:, 1:], np.ones(a.shape[1])]\n",
    "    \n",
    "    return np.append(np.array([0]), np.linalg.solve(a, b))\n",
    "\n",
    "def policy_iteration():\n",
    "    break_ = 0.1 + np.arange(0, 91)*0.01\n",
    "    policy = np.zeros(91)\n",
    "    steps = 0\n",
    "    \n",
    "    while True:\n",
    "        solution = find_solution(policy)\n",
    "        solution = solution[:-1]  # remove phi\n",
    "        old_policy = copy.deepcopy(policy)\n",
    "        \n",
    "        for i, action in enumerate(policy):\n",
    "            \n",
    "            value0 = break_[i]*(-1 + solution[0])\n",
    "            if i != 90:\n",
    "                value0 += (1 - break_[i])*solution[i+1]\n",
    "                \n",
    "            value1 = -0.5\n",
    "                        \n",
    "            if (action == 0) and (value1 > value0):\n",
    "                policy[i] = 1\n",
    "            elif (action == 1) and (value0 > value1):\n",
    "                policy[i] = 0\n",
    "        \n",
    "        if all(policy == old_policy):\n",
    "            break\n",
    "        else:\n",
    "            steps += 1\n",
    "                \n",
    "    print(f'Policy found in {steps} steps')\n",
    "    print()\n",
    "    print('Policy:')\n",
    "    print(policy)\n",
    "    print()\n",
    "    print('Values:')\n",
    "    print(find_solution(policy).round(5))"
   ]
  },
  {
   "cell_type": "code",
   "execution_count": 5,
   "metadata": {},
   "outputs": [
    {
     "name": "stdout",
     "output_type": "stream",
     "text": [
      "Policy found in 2 steps\n",
      "\n",
      "Policy:\n",
      "[0. 0. 0. 0. 0. 0. 0. 0. 0. 0. 0. 0. 0. 1. 1. 1. 1. 1. 1. 1. 1. 1. 1. 1.\n",
      " 1. 1. 1. 1. 1. 1. 1. 1. 1. 1. 1. 1. 1. 1. 1. 1. 1. 1. 1. 1. 1. 1. 1. 1.\n",
      " 1. 1. 1. 1. 1. 1. 1. 1. 1. 1. 1. 1. 1. 1. 1. 1. 1. 1. 1. 1. 1. 1. 1. 1.\n",
      " 1. 1. 1. 1. 1. 1. 1. 1. 1. 1. 1. 1. 1. 1. 1. 1. 1. 1. 1.]\n",
      "\n",
      "Values:\n",
      "[ 0.      -0.04991 -0.09531 -0.13662 -0.17419 -0.20826 -0.23903 -0.26661\n",
      " -0.291   -0.31209 -0.32964 -0.3432  -0.35205 -0.35508 -0.35508 -0.35508\n",
      " -0.35508 -0.35508 -0.35508 -0.35508 -0.35508 -0.35508 -0.35508 -0.35508\n",
      " -0.35508 -0.35508 -0.35508 -0.35508 -0.35508 -0.35508 -0.35508 -0.35508\n",
      " -0.35508 -0.35508 -0.35508 -0.35508 -0.35508 -0.35508 -0.35508 -0.35508\n",
      " -0.35508 -0.35508 -0.35508 -0.35508 -0.35508 -0.35508 -0.35508 -0.35508\n",
      " -0.35508 -0.35508 -0.35508 -0.35508 -0.35508 -0.35508 -0.35508 -0.35508\n",
      " -0.35508 -0.35508 -0.35508 -0.35508 -0.35508 -0.35508 -0.35508 -0.35508\n",
      " -0.35508 -0.35508 -0.35508 -0.35508 -0.35508 -0.35508 -0.35508 -0.35508\n",
      " -0.35508 -0.35508 -0.35508 -0.35508 -0.35508 -0.35508 -0.35508 -0.35508\n",
      " -0.35508 -0.35508 -0.35508 -0.35508 -0.35508 -0.35508 -0.35508 -0.35508\n",
      " -0.35508 -0.35508 -0.35508 -0.14492]\n"
     ]
    }
   ],
   "source": [
    "policy_iteration()"
   ]
  },
  {
   "cell_type": "code",
   "execution_count": 6,
   "metadata": {},
   "outputs": [],
   "source": [
    "def value_iteration():\n",
    "    values = np.ones(91)\n",
    "    policy = np.zeros(91)\n",
    "    break_ = 0.1 + np.arange(0, 91)*0.01\n",
    "    steps = 0\n",
    "    \n",
    "    while True:\n",
    "        \n",
    "        new_values = np.zeros(91)\n",
    "        \n",
    "        for i, val in enumerate(values):\n",
    "            \n",
    "            value0 = break_[i]*(-1 + values[0]) \n",
    "            if i != 90:\n",
    "                value0 += (1 - break_[i])*(values[i+1])\n",
    "                \n",
    "            value1 = -0.5 + values[0]\n",
    "            \n",
    "            if value0 > value1:\n",
    "                new_values[i], policy[i] = value0, 0\n",
    "            else:\n",
    "                new_values[i], policy[i] = value1, 1\n",
    "        \n",
    "        new_values -= new_values.max()\n",
    "\n",
    "        if max(abs(values - new_values)) < 1e-6:\n",
    "            break\n",
    "        else:\n",
    "            values = copy.deepcopy(new_values)\n",
    "            steps += 1\n",
    "                \n",
    "    print(f'Policy found in {steps} steps')\n",
    "    print()\n",
    "    print('Policy:')\n",
    "    print(policy)\n",
    "    print()\n",
    "    print('Values:')\n",
    "    print(values.round(5))"
   ]
  },
  {
   "cell_type": "code",
   "execution_count": 7,
   "metadata": {},
   "outputs": [
    {
     "name": "stdout",
     "output_type": "stream",
     "text": [
      "Policy found in 64 steps\n",
      "\n",
      "Policy:\n",
      "[0. 0. 0. 0. 0. 0. 0. 0. 0. 0. 0. 0. 0. 1. 1. 1. 1. 1. 1. 1. 1. 1. 1. 1.\n",
      " 1. 1. 1. 1. 1. 1. 1. 1. 1. 1. 1. 1. 1. 1. 1. 1. 1. 1. 1. 1. 1. 1. 1. 1.\n",
      " 1. 1. 1. 1. 1. 1. 1. 1. 1. 1. 1. 1. 1. 1. 1. 1. 1. 1. 1. 1. 1. 1. 1. 1.\n",
      " 1. 1. 1. 1. 1. 1. 1. 1. 1. 1. 1. 1. 1. 1. 1. 1. 1. 1. 1.]\n",
      "\n",
      "Values:\n",
      "[ 0.      -0.04991 -0.09531 -0.13662 -0.17419 -0.20826 -0.23903 -0.26661\n",
      " -0.291   -0.31209 -0.32964 -0.3432  -0.35205 -0.35508 -0.35508 -0.35508\n",
      " -0.35508 -0.35508 -0.35508 -0.35508 -0.35508 -0.35508 -0.35508 -0.35508\n",
      " -0.35508 -0.35508 -0.35508 -0.35508 -0.35508 -0.35508 -0.35508 -0.35508\n",
      " -0.35508 -0.35508 -0.35508 -0.35508 -0.35508 -0.35508 -0.35508 -0.35508\n",
      " -0.35508 -0.35508 -0.35508 -0.35508 -0.35508 -0.35508 -0.35508 -0.35508\n",
      " -0.35508 -0.35508 -0.35508 -0.35508 -0.35508 -0.35508 -0.35508 -0.35508\n",
      " -0.35508 -0.35508 -0.35508 -0.35508 -0.35508 -0.35508 -0.35508 -0.35508\n",
      " -0.35508 -0.35508 -0.35508 -0.35508 -0.35508 -0.35508 -0.35508 -0.35508\n",
      " -0.35508 -0.35508 -0.35508 -0.35508 -0.35508 -0.35508 -0.35508 -0.35508\n",
      " -0.35508 -0.35508 -0.35508 -0.35508 -0.35508 -0.35508 -0.35508 -0.35508\n",
      " -0.35508 -0.35508 -0.35508]\n"
     ]
    }
   ],
   "source": [
    "value_iteration()"
   ]
  },
  {
   "cell_type": "code",
   "execution_count": null,
   "metadata": {},
   "outputs": [],
   "source": []
  }
 ],
 "metadata": {
  "kernelspec": {
   "display_name": "Python 3",
   "language": "python",
   "name": "python3"
  },
  "language_info": {
   "codemirror_mode": {
    "name": "ipython",
    "version": 3
   },
   "file_extension": ".py",
   "mimetype": "text/x-python",
   "name": "python",
   "nbconvert_exporter": "python",
   "pygments_lexer": "ipython3",
   "version": "3.7.4"
  }
 },
 "nbformat": 4,
 "nbformat_minor": 2
}
