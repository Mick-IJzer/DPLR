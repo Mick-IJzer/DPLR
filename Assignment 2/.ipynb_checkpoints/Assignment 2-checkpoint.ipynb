{
 "cells": [
  {
   "cell_type": "code",
   "execution_count": null,
   "metadata": {},
   "outputs": [],
   "source": [
    "import numpy as np\n",
    "\n",
    "import matplotlib.pyplot as plt\n",
    "%matplotlib inline"
   ]
  },
  {
   "cell_type": "markdown",
   "metadata": {},
   "source": [
    "# Question A"
   ]
  },
  {
   "cell_type": "code",
   "execution_count": null,
   "metadata": {},
   "outputs": [],
   "source": [
    "t = np.arange(1, 91)\n",
    "break_ = 0.1 + t*0.01\n",
    "next_ = 0.9 - t*0.01\n",
    "transition_matrix = np.zeros((90, 90))\n",
    "\n",
    "for i in range(transition_matrix.shape[0]):\n",
    "    for j in range(transition_matrix.shape[1]):\n",
    "        if j == i + 1:\n",
    "            transition_matrix[i, j] = next_[i]\n",
    "\n",
    "transition_matrix[:, 0] = break_"
   ]
  },
  {
   "cell_type": "code",
   "execution_count": null,
   "metadata": {},
   "outputs": [],
   "source": [
    "transition_matrix"
   ]
  },
  {
   "cell_type": "code",
   "execution_count": null,
   "metadata": {},
   "outputs": [],
   "source": [
    "sum_ = 0\n",
    "for i in range(2, 91):\n",
    "    prod = 1\n",
    "    for j in range(1, i):\n",
    "        prod = prod * (0.9 - (0.01*j))\n",
    "    sum_ += prod"
   ]
  },
  {
   "cell_type": "code",
   "execution_count": null,
   "metadata": {},
   "outputs": [],
   "source": [
    "1 / (1 + sum_)"
   ]
  },
  {
   "cell_type": "markdown",
   "metadata": {},
   "source": [
    "# Question B"
   ]
  },
  {
   "cell_type": "code",
   "execution_count": null,
   "metadata": {},
   "outputs": [],
   "source": [
    "states = np.arange(1, 92)\n",
    "b = -(0.1 + states*0.01)[:-1]\n",
    "probs = -(0.9 - states*0.01)\n",
    "a = np.zeros((91, 91))\n",
    "\n",
    "for i in range(a.shape[0]):\n",
    "    a[i, i] = 1\n",
    "    if i != 90:\n",
    "        a[i, i+1] = probs[i]\n",
    "\n",
    "a[:, -1] = 1\n",
    "\n",
    "a = a[:90, 1:]"
   ]
  },
  {
   "cell_type": "code",
   "execution_count": null,
   "metadata": {},
   "outputs": [],
   "source": [
    "np.linalg.solve(a, b)"
   ]
  },
  {
   "cell_type": "markdown",
   "metadata": {},
   "source": [
    "# Question C"
   ]
  },
  {
   "cell_type": "code",
   "execution_count": null,
   "metadata": {},
   "outputs": [],
   "source": [
    "t = np.arange(1, 91)\n",
    "break_ = 0.1 + t*0.01\n",
    "next_ = 0.9 - t*0.01\n",
    "transition_matrix = np.zeros((2, 90, 90))\n",
    "\n",
    "for i in range(transition_matrix.shape[1]):\n",
    "    for j in range(transition_matrix.shape[2]):\n",
    "        if j == i + 1:\n",
    "            transition_matrix[0, i, j] = next_[i]\n",
    "\n",
    "transition_matrix[0, :, 0] = break_\n",
    "transition_matrix[1, :, 0] = 1\n",
    "\n",
    "reward_matrix = np.zeros((2, 90, 90))\n",
    "reward_matrix[0, :, 0] = -1\n",
    "reward_matrix[1, :, 0] = -0.5"
   ]
  },
  {
   "cell_type": "code",
   "execution_count": null,
   "metadata": {
    "scrolled": true
   },
   "outputs": [],
   "source": [
    "def evaluate_policy(policy, gamma=0.99):\n",
    "    old_values = np.zeros(90)\n",
    "    j = 0\n",
    "    while True:\n",
    "        new_values = np.zeros(90)\n",
    "        \n",
    "        for i in range(90):\n",
    "            new_values[i] = (policy[i].dot(transition_matrix[:, i, :]*(reward_matrix[:, i, :] + gamma*old_values))).sum()          \n",
    "            \n",
    "        if any(abs(old_values - new_values) < 1e-7):\n",
    "            break\n",
    "        else:\n",
    "            old_values = new_values\n",
    "                \n",
    "        \n",
    "    return old_values\n",
    "    "
   ]
  },
  {
   "cell_type": "code",
   "execution_count": null,
   "metadata": {},
   "outputs": [],
   "source": [
    "policy = np.zeros((90, 2))\n",
    "policy[:, 0] = 1\n",
    "\n",
    "v = evaluate_policy(policy)\n",
    "print(v)"
   ]
  },
  {
   "cell_type": "code",
   "execution_count": null,
   "metadata": {},
   "outputs": [],
   "source": [
    "policy = np.zeros((90, 2))\n",
    "policy[:, 1] = 1\n",
    "\n",
    "v = evaluate_policy(policy)\n",
    "print(v)"
   ]
  },
  {
   "cell_type": "code",
   "execution_count": null,
   "metadata": {},
   "outputs": [],
   "source": [
    "policy = np.zeros((90, 2))\n",
    "policy[:40, 0] = 1\n",
    "policy[40:, 1] = 1\n",
    "\n",
    "v = evaluate_policy(policy)\n",
    "print(v)"
   ]
  },
  {
   "cell_type": "code",
   "execution_count": null,
   "metadata": {},
   "outputs": [],
   "source": [
    "policy = np.zeros((90, 2))\n",
    "policy[:50, 0] = 1\n",
    "policy[50:, 1] = 1\n",
    "\n",
    "v = evaluate_policy(policy)\n",
    "print(v)"
   ]
  },
  {
   "cell_type": "code",
   "execution_count": null,
   "metadata": {},
   "outputs": [],
   "source": [
    "policy = np.zeros((90, 2))\n",
    "policy[:2, 0] = 1\n",
    "policy[2:, 1] = 1\n",
    "\n",
    "v = evaluate_policy(policy)\n",
    "print(v)"
   ]
  },
  {
   "cell_type": "code",
   "execution_count": null,
   "metadata": {},
   "outputs": [],
   "source": []
  }
 ],
 "metadata": {
  "kernelspec": {
   "display_name": "Python 3",
   "language": "python",
   "name": "python3"
  },
  "language_info": {
   "codemirror_mode": {
    "name": "ipython",
    "version": 3
   },
   "file_extension": ".py",
   "mimetype": "text/x-python",
   "name": "python",
   "nbconvert_exporter": "python",
   "pygments_lexer": "ipython3",
   "version": "3.7.4"
  }
 },
 "nbformat": 4,
 "nbformat_minor": 2
}
